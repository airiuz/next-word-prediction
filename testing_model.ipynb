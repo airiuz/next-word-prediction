{
 "cells": [
  {
   "cell_type": "code",
   "execution_count": 2,
   "id": "077b6cac",
   "metadata": {},
   "outputs": [],
   "source": [
    "from utils import *"
   ]
  },
  {
   "cell_type": "code",
   "execution_count": 3,
   "id": "2b96150f",
   "metadata": {},
   "outputs": [],
   "source": [
    "model = load_model('model/nextword.h5')"
   ]
  },
  {
   "cell_type": "code",
   "execution_count": null,
   "id": "1b0c29dd",
   "metadata": {},
   "outputs": [
    {
     "name": "stdout",
     "output_type": "stream",
     "text": [
      "Enter your words: Assalomu\n",
      "Enter number of words: 1\n",
      "Assalomu alеykum\n"
     ]
    }
   ],
   "source": [
    "while(True):\n",
    "\n",
    "    text = input(\"Enter your words: \")\n",
    "    \n",
    "    if text == \"stop\":\n",
    "        print(\"Ending The Program.....\")\n",
    "        break\n",
    "    else:\n",
    "        nums = int(input(\"Enter number of words: \"))\n",
    "        generate_word_best(nums,text,model)\n",
    "            \n",
    "        "
   ]
  },
  {
   "cell_type": "markdown",
   "id": "e45e9507",
   "metadata": {},
   "source": []
  }
 ],
 "metadata": {
  "kernelspec": {
   "display_name": "Python 3 (ipykernel)",
   "language": "python",
   "name": "python3"
  },
  "language_info": {
   "codemirror_mode": {
    "name": "ipython",
    "version": 3
   },
   "file_extension": ".py",
   "mimetype": "text/x-python",
   "name": "python",
   "nbconvert_exporter": "python",
   "pygments_lexer": "ipython3",
   "version": "3.9.7"
  }
 },
 "nbformat": 4,
 "nbformat_minor": 5
}
